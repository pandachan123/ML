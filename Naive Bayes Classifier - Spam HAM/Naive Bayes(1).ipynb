{
  "nbformat": 4,
  "nbformat_minor": 0,
  "metadata": {
    "colab": {
      "provenance": []
    },
    "kernelspec": {
      "name": "python3",
      "display_name": "Python 3"
    },
    "language_info": {
      "name": "python"
    }
  },
  "cells": [
    {
      "cell_type": "code",
      "execution_count": 1,
      "metadata": {
        "colab": {
          "base_uri": "https://localhost:8080/"
        },
        "id": "9t7r1xp9zaRm",
        "outputId": "3d9ee7e1-6df2-441e-9262-a91f413887ae"
      },
      "outputs": [
        {
          "output_type": "stream",
          "name": "stdout",
          "text": [
            "=== Gaussian Naive Bayes ===\n",
            "Accuracy: 0.9004484304932735\n",
            "              precision    recall  f1-score   support\n",
            "\n",
            "           0       0.99      0.90      0.94       965\n",
            "           1       0.58      0.93      0.71       150\n",
            "\n",
            "    accuracy                           0.90      1115\n",
            "   macro avg       0.78      0.91      0.83      1115\n",
            "weighted avg       0.93      0.90      0.91      1115\n",
            "\n",
            "=== Multinomial Naive Bayes ===\n",
            "Accuracy: 0.9829596412556054\n",
            "              precision    recall  f1-score   support\n",
            "\n",
            "           0       0.98      1.00      0.99       965\n",
            "           1       0.99      0.89      0.93       150\n",
            "\n",
            "    accuracy                           0.98      1115\n",
            "   macro avg       0.98      0.94      0.96      1115\n",
            "weighted avg       0.98      0.98      0.98      1115\n",
            "\n",
            "=== Bernoulli Naive Bayes ===\n",
            "Accuracy: 0.9757847533632287\n",
            "              precision    recall  f1-score   support\n",
            "\n",
            "           0       0.97      1.00      0.99       965\n",
            "           1       1.00      0.82      0.90       150\n",
            "\n",
            "    accuracy                           0.98      1115\n",
            "   macro avg       0.99      0.91      0.94      1115\n",
            "weighted avg       0.98      0.98      0.97      1115\n",
            "\n"
          ]
        }
      ],
      "source": [
        "import pandas as pd\n",
        "from sklearn.model_selection import train_test_split\n",
        "from sklearn.feature_extraction.text import CountVectorizer\n",
        "from sklearn.naive_bayes import GaussianNB, MultinomialNB, BernoulliNB\n",
        "from sklearn.metrics import classification_report, accuracy_score\n",
        "\n",
        "# Load data\n",
        "df = pd.read_csv('/content/spam - spam.csv', encoding='ISO-8859-1')\n",
        "\n",
        "# Data preprocessing\n",
        "df['spam'] = df['v1'].apply(lambda x: 1 if x == 'spam' else 0)  # Target column\n",
        "X = df['v2']  # Text data\n",
        "y = df['spam']  # Labels\n",
        "\n",
        "# Split data into training and test sets\n",
        "X_train, X_test, y_train, y_test = train_test_split(X, y, test_size=0.2, random_state=42)\n",
        "\n",
        "# Feature extraction with CountVectorizer\n",
        "vectorizer = CountVectorizer()\n",
        "X_train_count = vectorizer.fit_transform(X_train)\n",
        "X_test_count = vectorizer.transform(X_test)\n",
        "\n",
        "# Define models\n",
        "models = {\n",
        "    'Gaussian Naive Bayes': GaussianNB(),\n",
        "    'Multinomial Naive Bayes': MultinomialNB(),\n",
        "    'Bernoulli Naive Bayes': BernoulliNB()\n",
        "}\n",
        "\n",
        "# Train and evaluate each model\n",
        "for name, model in models.items():\n",
        "    if name == 'Gaussian Naive Bayes':\n",
        "        model.fit(X_train_count.toarray(), y_train)  # GaussianNB requires dense array\n",
        "        y_pred = model.predict(X_test_count.toarray())\n",
        "    else:\n",
        "        model.fit(X_train_count, y_train)\n",
        "        y_pred = model.predict(X_test_count)\n",
        "\n",
        "    accuracy = accuracy_score(y_test, y_pred)\n",
        "    report = classification_report(y_test, y_pred)\n",
        "    print(f\"=== {name} ===\")\n",
        "    print(\"Accuracy:\", accuracy)\n",
        "    print(report)\n"
      ]
    }
  ]
}