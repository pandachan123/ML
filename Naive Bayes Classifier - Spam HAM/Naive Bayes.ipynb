{
  "nbformat": 4,
  "nbformat_minor": 0,
  "metadata": {
    "colab": {
      "provenance": []
    },
    "kernelspec": {
      "name": "python3",
      "display_name": "Python 3"
    },
    "language_info": {
      "name": "python"
    }
  },
  "cells": [
    {
      "cell_type": "code",
      "execution_count": null,
      "metadata": {
        "id": "QhedGth1VJ_R"
      },
      "outputs": [],
      "source": [
        "import pandas as pd\n",
        "from sklearn.model_selection import train_test_split\n",
        "from sklearn.naive_bayes import GaussianNB, MultinomialNB, BernoulliNB\n",
        "from sklearn.metrics import classification_report, accuracy_score"
      ]
    },
    {
      "cell_type": "code",
      "source": [
        "data = pd.read_csv('/content/winequality-red.csv', sep=';')\n",
        "data.info()"
      ],
      "metadata": {
        "colab": {
          "base_uri": "https://localhost:8080/"
        },
        "id": "fMgwWkSvWArZ",
        "outputId": "ff694f62-fb5e-4fbe-d7e1-ca8a56895ea4"
      },
      "execution_count": null,
      "outputs": [
        {
          "output_type": "stream",
          "name": "stdout",
          "text": [
            "<class 'pandas.core.frame.DataFrame'>\n",
            "RangeIndex: 1599 entries, 0 to 1598\n",
            "Data columns (total 12 columns):\n",
            " #   Column                Non-Null Count  Dtype  \n",
            "---  ------                --------------  -----  \n",
            " 0   fixed acidity         1599 non-null   float64\n",
            " 1   volatile acidity      1599 non-null   float64\n",
            " 2   citric acid           1599 non-null   float64\n",
            " 3   residual sugar        1599 non-null   float64\n",
            " 4   chlorides             1599 non-null   float64\n",
            " 5   free sulfur dioxide   1599 non-null   float64\n",
            " 6   total sulfur dioxide  1599 non-null   float64\n",
            " 7   density               1599 non-null   float64\n",
            " 8   pH                    1599 non-null   float64\n",
            " 9   sulphates             1599 non-null   float64\n",
            " 10  alcohol               1599 non-null   float64\n",
            " 11  quality               1599 non-null   int64  \n",
            "dtypes: float64(11), int64(1)\n",
            "memory usage: 150.0 KB\n"
          ]
        }
      ]
    },
    {
      "cell_type": "code",
      "source": [
        "X = data.drop('quality', axis=1)\n",
        "y = data['quality']\n",
        "y = pd.cut(y, bins=[0, 4, 7, 10], labels=[0, 1, 2])\n",
        "X_train, X_test, y_train, y_test = train_test_split(X, y, test_size=0.2, random_state=42)"
      ],
      "metadata": {
        "id": "6D10pF5KWGJL"
      },
      "execution_count": null,
      "outputs": []
    },
    {
      "cell_type": "code",
      "source": [
        "models = {\n",
        "    'Gaussian Naive Bayes': GaussianNB(),\n",
        "    'Multinomial Naive Bayes': MultinomialNB(),\n",
        "    'Bernoulli Naive Bayes': BernoulliNB()\n",
        "}\n",
        "\n",
        "for name, model in models.items():\n",
        "    model.fit(X_train, y_train)\n",
        "    y_pred = model.predict(X_test)\n",
        "    accuracy = accuracy_score(y_test, y_pred)\n",
        "    report = classification_report(y_test, y_pred)\n",
        "    print(f\"=== {name} ===\")\n",
        "    print(\"Accuracy:\", accuracy)\n",
        "    print(report)"
      ],
      "metadata": {
        "colab": {
          "base_uri": "https://localhost:8080/"
        },
        "id": "NMXHSrLxYE5h",
        "outputId": "0c85d337-6e94-44df-89f6-56e352f6087e"
      },
      "execution_count": null,
      "outputs": [
        {
          "output_type": "stream",
          "name": "stdout",
          "text": [
            "=== Gaussian Naive Bayes ===\n",
            "Accuracy: 0.93125\n",
            "              precision    recall  f1-score   support\n",
            "\n",
            "           0       0.29      0.18      0.22        11\n",
            "           1       0.96      0.96      0.96       304\n",
            "           2       0.33      0.60      0.43         5\n",
            "\n",
            "    accuracy                           0.93       320\n",
            "   macro avg       0.53      0.58      0.54       320\n",
            "weighted avg       0.93      0.93      0.93       320\n",
            "\n",
            "=== Multinomial Naive Bayes ===\n",
            "Accuracy: 0.8125\n",
            "              precision    recall  f1-score   support\n",
            "\n",
            "           0       0.00      0.00      0.00        11\n",
            "           1       0.96      0.85      0.90       304\n",
            "           2       0.04      0.40      0.07         5\n",
            "\n",
            "    accuracy                           0.81       320\n",
            "   macro avg       0.33      0.42      0.32       320\n",
            "weighted avg       0.92      0.81      0.86       320\n",
            "\n",
            "=== Bernoulli Naive Bayes ===\n",
            "Accuracy: 0.95\n",
            "              precision    recall  f1-score   support\n",
            "\n",
            "           0       0.00      0.00      0.00        11\n",
            "           1       0.95      1.00      0.97       304\n",
            "           2       0.00      0.00      0.00         5\n",
            "\n",
            "    accuracy                           0.95       320\n",
            "   macro avg       0.32      0.33      0.32       320\n",
            "weighted avg       0.90      0.95      0.93       320\n",
            "\n"
          ]
        },
        {
          "output_type": "stream",
          "name": "stderr",
          "text": [
            "/usr/local/lib/python3.10/dist-packages/sklearn/metrics/_classification.py:1531: UndefinedMetricWarning: Precision is ill-defined and being set to 0.0 in labels with no predicted samples. Use `zero_division` parameter to control this behavior.\n",
            "  _warn_prf(average, modifier, f\"{metric.capitalize()} is\", len(result))\n",
            "/usr/local/lib/python3.10/dist-packages/sklearn/metrics/_classification.py:1531: UndefinedMetricWarning: Precision is ill-defined and being set to 0.0 in labels with no predicted samples. Use `zero_division` parameter to control this behavior.\n",
            "  _warn_prf(average, modifier, f\"{metric.capitalize()} is\", len(result))\n",
            "/usr/local/lib/python3.10/dist-packages/sklearn/metrics/_classification.py:1531: UndefinedMetricWarning: Precision is ill-defined and being set to 0.0 in labels with no predicted samples. Use `zero_division` parameter to control this behavior.\n",
            "  _warn_prf(average, modifier, f\"{metric.capitalize()} is\", len(result))\n"
          ]
        }
      ]
    }
  ]
}