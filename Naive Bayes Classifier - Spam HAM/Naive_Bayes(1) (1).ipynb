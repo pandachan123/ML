{
  "nbformat": 4,
  "nbformat_minor": 0,
  "metadata": {
    "colab": {
      "provenance": []
    },
    "kernelspec": {
      "name": "python3",
      "display_name": "Python 3"
    },
    "language_info": {
      "name": "python"
    }
  },
  "cells": [
    {
      "cell_type": "code",
      "execution_count": 2,
      "metadata": {
        "colab": {
          "base_uri": "https://localhost:8080/"
        },
        "id": "9t7r1xp9zaRm",
        "outputId": "7824f87b-a808-4b27-cc76-3ce95f715756"
      },
      "outputs": [
        {
          "output_type": "stream",
          "name": "stdout",
          "text": [
            "=== Gaussian Naive Bayes ===\n",
            "Accuracy: 0.9067264573991032\n",
            "              precision    recall  f1-score   support\n",
            "\n",
            "           0       0.99      0.90      0.94       966\n",
            "           1       0.60      0.93      0.73       149\n",
            "\n",
            "    accuracy                           0.91      1115\n",
            "   macro avg       0.79      0.91      0.84      1115\n",
            "weighted avg       0.94      0.91      0.91      1115\n",
            "\n",
            "=== Multinomial Naive Bayes ===\n",
            "Best Parameters: {'alpha': 1.0}\n",
            "Accuracy: 0.9919282511210762\n",
            "              precision    recall  f1-score   support\n",
            "\n",
            "           0       0.99      1.00      1.00       966\n",
            "           1       1.00      0.94      0.97       149\n",
            "\n",
            "    accuracy                           0.99      1115\n",
            "   macro avg       1.00      0.97      0.98      1115\n",
            "weighted avg       0.99      0.99      0.99      1115\n",
            "\n",
            "=== Bernoulli Naive Bayes ===\n",
            "Best Parameters: {'alpha': 0.5, 'binarize': 0.0}\n",
            "Accuracy: 0.9883408071748879\n",
            "              precision    recall  f1-score   support\n",
            "\n",
            "           0       0.99      1.00      0.99       966\n",
            "           1       1.00      0.91      0.95       149\n",
            "\n",
            "    accuracy                           0.99      1115\n",
            "   macro avg       0.99      0.96      0.97      1115\n",
            "weighted avg       0.99      0.99      0.99      1115\n",
            "\n"
          ]
        }
      ],
      "source": [
        "import pandas as pd\n",
        "from sklearn.model_selection import train_test_split, GridSearchCV\n",
        "from sklearn.feature_extraction.text import CountVectorizer\n",
        "from sklearn.naive_bayes import GaussianNB, MultinomialNB, BernoulliNB\n",
        "from sklearn.metrics import classification_report, accuracy_score\n",
        "\n",
        "# Load the SMS Spam Collection dataset\n",
        "df = pd.read_csv('SMSSpamCollection', sep='\\t', header=None, names=['label', 'message'])\n",
        "\n",
        "# Data preprocessing\n",
        "df['spam'] = df['label'].apply(lambda x: 1 if x == 'spam' else 0)\n",
        "X = df['message']\n",
        "y = df['spam']\n",
        "\n",
        "# Split data into training and test sets\n",
        "X_train, X_test, y_train, y_test = train_test_split(X, y, test_size=0.2, random_state=42)\n",
        "\n",
        "# Feature extraction\n",
        "vectorizer = CountVectorizer()\n",
        "X_train_count = vectorizer.fit_transform(X_train)\n",
        "X_test_count = vectorizer.transform(X_test)\n",
        "\n",
        "# Define parameter grids for each model\n",
        "param_grids = {\n",
        "    'Gaussian Naive Bayes': {},\n",
        "    'Multinomial Naive Bayes': {'alpha': [0.5, 1.0, 1.5, 2.0]},\n",
        "    'Bernoulli Naive Bayes': {'alpha': [0.5, 1.0, 1.5, 2.0], 'binarize': [0.0, 0.5, 1.0]}\n",
        "}\n",
        "\n",
        "# Models without hyperparameters\n",
        "base_models = {\n",
        "    'Gaussian Naive Bayes': GaussianNB(),\n",
        "    'Multinomial Naive Bayes': MultinomialNB(),\n",
        "    'Bernoulli Naive Bayes': BernoulliNB()\n",
        "}\n",
        "# Hyperparameter tuning and evaluation\n",
        "for name, model in base_models.items():\n",
        "    if name == 'Gaussian Naive Bayes':\n",
        "        # Gaussian Naive Bayes does not have specific parameters to tune with GridSearchCV\n",
        "        model.fit(X_train_count.toarray(), y_train)\n",
        "        y_pred = model.predict(X_test_count.toarray())\n",
        "    else:\n",
        "        grid_search = GridSearchCV(model, param_grids[name], cv=5, scoring='accuracy')\n",
        "        grid_search.fit(X_train_count, y_train)\n",
        "        model = grid_search.best_estimator_\n",
        "        y_pred = model.predict(X_test_count)\n",
        "\n",
        "    accuracy = accuracy_score(y_test, y_pred)\n",
        "    report = classification_report(y_test, y_pred)\n",
        "    print(f\"=== {name} ===\")\n",
        "    if name != 'Gaussian Naive Bayes':\n",
        "        print(\"Best Parameters:\", grid_search.best_params_)\n",
        "    print(\"Accuracy:\", accuracy)\n",
        "    print(report)"
      ]
    }
  ]
}